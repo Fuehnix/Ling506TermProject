{
 "cells": [
  {
   "cell_type": "code",
   "execution_count": null,
   "metadata": {},
   "outputs": [],
   "source": [
    "import datetime as dt\n",
    "from multiprocessing import Process, current_process, Pool, TimeoutError\n",
    "import sys\n",
    "import time\n",
    "import os\n",
    "import json\n",
    "%pip install flair"
   ]
  },
  {
   "cell_type": "code",
   "execution_count": 9,
   "metadata": {},
   "outputs": [],
   "source": [
    "def loadFile(name):\n",
    "    # Loads the file\n",
    "    data = []\n",
    "#     print(name)\n",
    "    with open(name, 'r',encoding='utf-8') as f:\n",
    "        for line in f:\n",
    "            entry = line.split(\"\\n\")\n",
    "            data += entry\n",
    "    return data"
   ]
  },
  {
   "cell_type": "code",
   "execution_count": 11,
   "metadata": {},
   "outputs": [
    {
     "name": "stdout",
     "output_type": "stream",
     "text": [
      "X_set {'I', 'horror', 'love', 'movies'}\n",
      "Y_set {'horror', 'movie', 'Lights'}\n",
      "rvector {'I', 'Lights', 'movies', 'horror', 'love', 'movie'}\n",
      " \n",
      "list update\n",
      "l1 [1]\n",
      "l2 [0]\n",
      " \n",
      "list update\n",
      "l1 [1, 0]\n",
      "l2 [0, 1]\n",
      " \n",
      "list update\n",
      "l1 [1, 0, 1]\n",
      "l2 [0, 1, 0]\n",
      " \n",
      "list update\n",
      "l1 [1, 0, 1, 1]\n",
      "l2 [0, 1, 0, 1]\n",
      " \n",
      "list update\n",
      "l1 [1, 0, 1, 1, 1]\n",
      "l2 [0, 1, 0, 1, 0]\n",
      " \n",
      "list update\n",
      "l1 [1, 0, 1, 1, 1, 0]\n",
      "l2 [0, 1, 0, 1, 0, 1]\n",
      "similarity:  0.2886751345948129\n"
     ]
    }
   ],
   "source": [
    "# Program to measure the similarity between  \n",
    "# two sentences using cosine similarity. \n",
    "from nltk.corpus import stopwords \n",
    "from nltk.tokenize import word_tokenize \n",
    "  \n",
    "# X = input(\"Enter first string: \").lower() \n",
    "# Y = input(\"Enter second string: \").lower() \n",
    "X =\"I love horror movies\"\n",
    "Y =\"Lights out is a horror movie\"\n",
    "  \n",
    "# tokenization \n",
    "X_list = word_tokenize(X)  \n",
    "Y_list = word_tokenize(Y) \n",
    "  \n",
    "# sw contains the list of stopwords \n",
    "sw = stopwords.words('english')  \n",
    "l1 =[];l2 =[] \n",
    "  \n",
    "# remove stop words from the string \n",
    "X_set = {w for w in X_list if not w in sw}  \n",
    "Y_set = {w for w in Y_list if not w in sw} \n",
    "  \n",
    "# form a set containing keywords of both strings  \n",
    "rvector = X_set.union(Y_set)  \n",
    "print(\"X_set\", X_set)\n",
    "print(\"Y_set\", Y_set)\n",
    "print(\"rvector\", rvector)\n",
    "for w in rvector: \n",
    "    if w in X_set:\n",
    "        l1.append(1) # create a vector \n",
    "    else: \n",
    "        l1.append(0) \n",
    "    if w in Y_set:\n",
    "        l2.append(1) \n",
    "    else:\n",
    "        l2.append(0)\n",
    "    print(\" \")\n",
    "    print(\"list update\")\n",
    "    print(\"l1\",l1)\n",
    "    print(\"l2\",l2)\n",
    "c = 0\n",
    "  \n",
    "# cosine formula  \n",
    "for i in range(len(rvector)): \n",
    "        c+= l1[i]*l2[i] \n",
    "cosine = c / float((sum(l1)*sum(l2))**0.5) \n",
    "print(\"similarity: \", cosine) "
   ]
  },
  {
   "cell_type": "code",
   "execution_count": null,
   "metadata": {},
   "outputs": [],
   "source": []
  },
  {
   "cell_type": "code",
   "execution_count": null,
   "metadata": {},
   "outputs": [],
   "source": []
  },
  {
   "cell_type": "code",
   "execution_count": null,
   "metadata": {},
   "outputs": [],
   "source": []
  },
  {
   "cell_type": "code",
   "execution_count": null,
   "metadata": {},
   "outputs": [],
   "source": []
  }
 ],
 "metadata": {
  "kernelspec": {
   "display_name": "Python 3",
   "language": "python",
   "name": "python3"
  },
  "language_info": {
   "codemirror_mode": {
    "name": "ipython",
    "version": 3
   },
   "file_extension": ".py",
   "mimetype": "text/x-python",
   "name": "python",
   "nbconvert_exporter": "python",
   "pygments_lexer": "ipython3",
   "version": "3.9.0"
  }
 },
 "nbformat": 4,
 "nbformat_minor": 2
}
